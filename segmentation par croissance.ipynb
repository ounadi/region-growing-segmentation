{
 "cells": [
  {
   "cell_type": "raw",
   "metadata": {},
   "source": [
    "nom:OUNADI ikram"
   ]
  },
  {
   "cell_type": "markdown",
   "metadata": {},
   "source": [
    "# segmentation par croissance de région"
   ]
  },
  {
   "cell_type": "code",
   "execution_count": 1,
   "metadata": {},
   "outputs": [
    {
     "ename": "error",
     "evalue": "OpenCV(3.4.10) /io/opencv/modules/highgui/src/window_QT.cpp:717: error: (-27:Null pointer) NULL window handler in function 'cvSetMouseCallback'\n",
     "output_type": "error",
     "traceback": [
      "\u001b[0;31m---------------------------------------------------------------------------\u001b[0m",
      "\u001b[0;31merror\u001b[0m                                     Traceback (most recent call last)",
      "\u001b[0;32m<ipython-input-1-74c5d1c25302>\u001b[0m in \u001b[0;36m<module>\u001b[0;34m\u001b[0m\n\u001b[1;32m     82\u001b[0m \u001b[0mret\u001b[0m\u001b[0;34m,\u001b[0m \u001b[0mimg\u001b[0m \u001b[0;34m=\u001b[0m \u001b[0mcv2\u001b[0m\u001b[0;34m.\u001b[0m\u001b[0mthreshold\u001b[0m\u001b[0;34m(\u001b[0m\u001b[0mimage\u001b[0m\u001b[0;34m,\u001b[0m \u001b[0;36m128\u001b[0m\u001b[0;34m,\u001b[0m \u001b[0;36m255\u001b[0m\u001b[0;34m,\u001b[0m \u001b[0mcv2\u001b[0m\u001b[0;34m.\u001b[0m\u001b[0mTHRESH_BINARY\u001b[0m\u001b[0;34m)\u001b[0m\u001b[0;34m\u001b[0m\u001b[0;34m\u001b[0m\u001b[0m\n\u001b[1;32m     83\u001b[0m \u001b[0mcv2\u001b[0m\u001b[0;34m.\u001b[0m\u001b[0mnamedWindow\u001b[0m\u001b[0;34m(\u001b[0m\u001b[0;34m'Input'\u001b[0m\u001b[0;34m)\u001b[0m\u001b[0;34m\u001b[0m\u001b[0;34m\u001b[0m\u001b[0m\n\u001b[0;32m---> 84\u001b[0;31m \u001b[0mcv2\u001b[0m\u001b[0;34m.\u001b[0m\u001b[0msetMouseCallback\u001b[0m\u001b[0;34m(\u001b[0m\u001b[0;34m'Input'\u001b[0m\u001b[0;34m,\u001b[0m \u001b[0mon_mouse\u001b[0m\u001b[0;34m,\u001b[0m \u001b[0;36m0\u001b[0m\u001b[0;34m,\u001b[0m \u001b[0;34m)\u001b[0m\u001b[0;34m\u001b[0m\u001b[0;34m\u001b[0m\u001b[0m\n\u001b[0m\u001b[1;32m     85\u001b[0m \u001b[0mcv2\u001b[0m\u001b[0;34m.\u001b[0m\u001b[0mimshow\u001b[0m\u001b[0;34m(\u001b[0m\u001b[0;34m'Input'\u001b[0m\u001b[0;34m,\u001b[0m \u001b[0mimg\u001b[0m\u001b[0;34m)\u001b[0m\u001b[0;34m\u001b[0m\u001b[0;34m\u001b[0m\u001b[0m\n\u001b[1;32m     86\u001b[0m \u001b[0mcv2\u001b[0m\u001b[0;34m.\u001b[0m\u001b[0mwaitKey\u001b[0m\u001b[0;34m(\u001b[0m\u001b[0;34m)\u001b[0m\u001b[0;34m\u001b[0m\u001b[0;34m\u001b[0m\u001b[0m\n",
      "\u001b[0;31merror\u001b[0m: OpenCV(3.4.10) /io/opencv/modules/highgui/src/window_QT.cpp:717: error: (-27:Null pointer) NULL window handler in function 'cvSetMouseCallback'\n"
     ]
    }
   ],
   "source": [
    "import cv2\n",
    "import numpy as np\n",
    "import sys\n",
    "\n",
    "#trouver les voisins du pixel \n",
    "def voisins(x, y, shape):\n",
    "    voisin = []\n",
    "    maxx = shape[1]-1\n",
    "    maxy = shape[0]-1\n",
    "\n",
    "     #voisin qui se situé en haut a gauche\n",
    "\n",
    "    outx = min(max(x-1,0),maxx)\n",
    "    outy = min(max(y-1,0),maxy)\n",
    "    out.append((outx,outy))\n",
    "\n",
    "    #haut milieu\n",
    "    \n",
    "    outx = x\n",
    "    outy = min(max(y-1,0),maxy)\n",
    "    out.append((outx,outy))\n",
    "\n",
    "    #haut droite\n",
    "    outx = min(max(x+1,0),maxx)\n",
    "    outy = min(max(y-1,0),maxy)\n",
    "    out.append((outx,outy))\n",
    "\n",
    "    #gauche\n",
    "    outx = min(max(x-1,0),maxx)\n",
    "    outy = y\n",
    "    out.append((outx,outy))\n",
    "\n",
    "    #droite\n",
    "    outx = min(max(x+1,0),maxx)\n",
    "    outy = y\n",
    "    out.append((outx,outy))\n",
    "\n",
    "    #bas gauche\n",
    "    outx = min(max(x-1,0),maxx)\n",
    "    outy = min(max(y+1,0),maxy)\n",
    "    out.append((outx,outy))\n",
    "\n",
    "    #bas mileu\n",
    "    outx = x\n",
    "    outy = min(max(y+1,0),maxy)\n",
    "    out.append((outx,outy))\n",
    "\n",
    "    #bas droite\n",
    "    outx = min(max(x+1,0),maxx)\n",
    "    outy = min(max(y+1,0),maxy)\n",
    "    out.append((outx,outy))\n",
    "\n",
    "    return voisin\n",
    "#algorithme :\n",
    "def croissance_region(img, seed):\n",
    "    list = [] \n",
    "    outimg = np.zeros_like(img)\n",
    "    list.append((seed[0], seed[1]))\n",
    "    processed = []\n",
    "    while(len(list) > 0):\n",
    "\n",
    "        pix = list[0] #un pixel(germe) dans l’image (ce germe va être considéré comme région 0 R0\n",
    "        outimg[pix[0], pix[1]] = 255\n",
    "        for coord in voisins(pix[0], pix[1], img.shape):#estes ces voisins Et chaque pixel voisin qui vérifie le critère choisi tu le rajoute à la région 0 \n",
    "            if img[coord[0], coord[1]] != 0:\n",
    "\n",
    "                outimg[coord[0], coord[1]] = 255\n",
    "                if not coord in processed:\n",
    "                    list.append(coord)\n",
    "                processed.append(coord)\n",
    "        list.pop(0)\n",
    "        \n",
    "    return outimg\n",
    "#on appuit sur le point , s'affiche des coordonnées de pixels \n",
    "def on_mouse(event, x, y, flags, params):\n",
    "    if event == cv2.EVENT_LBUTTONDOWN:\n",
    "        print ('Seed: ' + str(x) + ', ' + str(y), img[y,x])\n",
    "        clicks.append((y,x))\n",
    "\n",
    "clicks = []\n",
    "image = cv2.imread('im1.png', cv2.imread(sys.argv[1],1))\n",
    "ret, img = cv2.threshold(image, 128, 255, cv2.THRESH_BINARY)\n",
    "cv2.namedWindow('Input')\n",
    "cv2.setMouseCallback('Input', on_mouse, 0, )\n",
    "cv2.imshow('Input', img)\n",
    "cv2.waitKey()\n",
    "seed = clicks[-1]\n",
    "out = croissance_region(img, seed)\n",
    "cv2.imshow('croissance region ', out)\n",
    "cv2.waitKey()\n",
    "cv2.destroyAllWindows()"
   ]
  },
  {
   "cell_type": "code",
   "execution_count": null,
   "metadata": {},
   "outputs": [],
   "source": []
  }
 ],
 "metadata": {
  "kernelspec": {
   "display_name": "Python 3",
   "language": "python",
   "name": "python3"
  },
  "language_info": {
   "codemirror_mode": {
    "name": "ipython",
    "version": 3
   },
   "file_extension": ".py",
   "mimetype": "text/x-python",
   "name": "python",
   "nbconvert_exporter": "python",
   "pygments_lexer": "ipython3",
   "version": "3.7.4"
  }
 },
 "nbformat": 4,
 "nbformat_minor": 2
}
